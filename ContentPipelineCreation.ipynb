{
 "cells": [
  {
   "cell_type": "code",
   "execution_count": 1,
   "metadata": {},
   "outputs": [
    {
     "name": "stdout",
     "output_type": "stream",
     "text": [
      "SDK version: 1.36.0\n"
     ]
    }
   ],
   "source": [
    "import datetime\n",
    "import azureml.core\n",
    "\n",
    "from azureml.core import Workspace, Experiment, Datastore, Dataset \n",
    "from azureml.pipeline.core import Pipeline, PipelineData, PipelineRun\n",
    "from azureml.pipeline.steps import PythonScriptStep\n",
    " \n",
    "from azureml.core.compute import ComputeTarget, AmlCompute\n",
    "from azureml.core.compute_target import ComputeTargetException\n",
    " \n",
    "from azureml.core.runconfig import RunConfiguration\n",
    "from azureml.core.conda_dependencies import CondaDependencies\n",
    " \n",
    "from azureml.core.model import Model\n",
    "\n",
    " \n",
    "# Check core SDK version number\n",
    "print(\"SDK version:\", azureml.core.VERSION)"
   ]
  },
  {
   "cell_type": "code",
   "execution_count": 2,
   "metadata": {},
   "outputs": [],
   "source": [
    "experiment_name = 'ContentModelTraining'\n",
    "datastore_name = 'mltrainingdata'\n",
    "\n",
    "input_dataset_name = 'content_config'\n",
    "input_data_name = 'content_config_json'\n",
    "\n",
    "\n",
    "# Static path for content cinfig JSON in datastore\n",
    "input_data_path = 'configs/content'"
   ]
  },
  {
   "cell_type": "code",
   "execution_count": 3,
   "metadata": {},
   "outputs": [],
   "source": [
    "ws = Workspace.from_config()\n",
    "datastore = Datastore.get(ws, datastore_name=datastore_name)"
   ]
  },
  {
   "cell_type": "code",
   "execution_count": 4,
   "metadata": {},
   "outputs": [
    {
     "name": "stdout",
     "output_type": "stream",
     "text": [
      "Workspace name: aiml-workspace-dev\n",
      "Workspacev resource group: analytics_mart_dev_rg\n",
      "Datastore name: mltrainingdata\n",
      "container name: ml-training-data\n",
      "account name: analyticsmartdevadls\n"
     ]
    }
   ],
   "source": [
    "print(f'Workspace name: {ws.name}')\n",
    "print(f'Workspacev resource group: {ws.resource_group}')\n",
    "print(f'Datastore name: {datastore.name}')\n",
    "print(f'container name: {datastore.container_name}')\n",
    "print(f'account name: {datastore.account_name}')"
   ]
  },
  {
   "cell_type": "code",
   "execution_count": 5,
   "metadata": {},
   "outputs": [
    {
     "name": "stdout",
     "output_type": "stream",
     "text": [
      "found existing compute target.\n",
      "Azure Machine Learning Compute attached\n"
     ]
    }
   ],
   "source": [
    "aml_compute_target = \"demo-cluster\"\n",
    "try:\n",
    "    aml_compute = AmlCompute(ws, aml_compute_target)\n",
    "    print(\"found existing compute target.\")\n",
    "except ComputeTargetException:\n",
    "    print(\"creating new compute target\")\n",
    "    \n",
    "    provisioning_config = AmlCompute.provisioning_configuration(vm_size = \"STANDARD_D2_V2\",\n",
    "                                                                min_nodes = 1, \n",
    "                                                                max_nodes = 4)    \n",
    "    aml_compute = ComputeTarget.create(ws, aml_compute_target, provisioning_config)\n",
    "    aml_compute.wait_for_completion(show_output=True, min_node_count=None, timeout_in_minutes=20)\n",
    "    \n",
    "print(\"Azure Machine Learning Compute attached\")"
   ]
  },
  {
   "cell_type": "code",
   "execution_count": 6,
   "metadata": {},
   "outputs": [
    {
     "name": "stderr",
     "output_type": "stream",
     "text": [
      "'enabled' is deprecated. Please use the azureml.core.runconfig.DockerConfiguration object with the 'use_docker' param instead.\n"
     ]
    }
   ],
   "source": [
    "aml_run_config = RunConfiguration()\n",
    " \n",
    "aml_run_config.target = aml_compute\n",
    "aml_run_config.environment.docker.enabled = True\n",
    "aml_run_config.environment.docker.base_image = \"mcr.microsoft.com/azureml/base:latest\"\n",
    " \n",
    "aml_run_config.environment.python.user_managed_dependencies = False\n",
    " \n",
    "aml_run_config.environment.python.conda_dependencies = CondaDependencies.create(\n",
    "    conda_packages=['pandas','scikit-learn','numpy'], \n",
    "    pip_packages=['joblib','azureml-sdk','fusepy', 'nltk'], \n",
    "    pin_sdk_version=False)"
   ]
  },
  {
   "cell_type": "code",
   "execution_count": 7,
   "metadata": {},
   "outputs": [
    {
     "data": {
      "text/plain": [
       "['/content_config.json']"
      ]
     },
     "execution_count": 7,
     "metadata": {},
     "output_type": "execute_result"
    }
   ],
   "source": [
    "dataset = Dataset.File.from_files(datastore.path(input_data_path))\n",
    "dataset = dataset.register(ws, input_dataset_name, create_new_version=True)\n",
    "content_config = dataset.as_named_input(input_data_name)\n",
    "\n",
    "model_registration_flag = PipelineData(\"model_registration_flag\", datastore=datastore).as_dataset()\n",
    "\n",
    "# see a list of files referenced by dataset\n",
    "dataset.to_path()"
   ]
  },
  {
   "cell_type": "code",
   "execution_count": 8,
   "metadata": {},
   "outputs": [],
   "source": [
    "source_directory=\"./content\"\n",
    "\n",
    "step1 = PythonScriptStep(name=\"train\",\n",
    "                         script_name=\"./content_model_training.py\", \n",
    "                         arguments=[\"--model_registration_flag\", model_registration_flag],\n",
    "                         inputs=[content_config],\n",
    "                         outputs=[model_registration_flag],\n",
    "                         compute_target=aml_compute, \n",
    "                         runconfig=aml_run_config,\n",
    "                         source_directory=source_directory,\n",
    "                         allow_reuse=False)"
   ]
  },
  {
   "cell_type": "code",
   "execution_count": 9,
   "metadata": {},
   "outputs": [],
   "source": [
    "source_directory=\"./scoring\"\n",
    "step2 = PythonScriptStep(name=\"score\",\n",
    "                         script_name=\"./model_deployment.py\", \n",
    "                         arguments=[\"--model_registration_flag\", model_registration_flag],\n",
    "                         inputs=[model_registration_flag],\n",
    "                         compute_target=aml_compute, \n",
    "                         runconfig=aml_run_config,\n",
    "                         source_directory=source_directory,\n",
    "                         allow_reuse=False)"
   ]
  },
  {
   "cell_type": "code",
   "execution_count": 10,
   "metadata": {},
   "outputs": [],
   "source": [
    "steps = [step1, step2]\n",
    "# steps = [step1]"
   ]
  },
  {
   "cell_type": "code",
   "execution_count": 11,
   "metadata": {},
   "outputs": [
    {
     "name": "stdout",
     "output_type": "stream",
     "text": [
      "Created step train [318565d2][2f802c15-0bbd-48c3-b826-a586b50ca27a], (This step will run and generate new outputs)\n",
      "Created step score [02170142][3bb5dc7e-3a17-410d-ac1e-c361e155b189], (This step will run and generate new outputs)\n",
      "Submitted PipelineRun 00d49779-c7e9-4525-b623-df77bee2a9bc\n",
      "Link to Azure Machine Learning Portal: https://ml.azure.com/runs/00d49779-c7e9-4525-b623-df77bee2a9bc?wsid=/subscriptions/a00a8e0f-73c4-4480-8097-07bf63060185/resourcegroups/analytics_mart_dev_rg/workspaces/aiml-workspace-dev&tid=4deb802f-fdf2-4ebe-ae9b-8df74fb06435\n"
     ]
    }
   ],
   "source": [
    "pipeline = Pipeline(workspace=ws, steps=steps)\n",
    "pipeline_run = Experiment(ws, experiment_name).submit(pipeline, regenerate_outputs=True)"
   ]
  },
  {
   "cell_type": "code",
   "execution_count": null,
   "metadata": {},
   "outputs": [],
   "source": []
  }
 ],
 "metadata": {
  "kernel_info": {
   "name": "python3-azureml"
  },
  "kernelspec": {
   "display_name": "Python 3.6 - AzureML",
   "language": "python",
   "name": "python3-azureml"
  },
  "language_info": {
   "codemirror_mode": {
    "name": "ipython",
    "version": 3
   },
   "file_extension": ".py",
   "mimetype": "text/x-python",
   "name": "python",
   "nbconvert_exporter": "python",
   "pygments_lexer": "ipython3",
   "version": "3.6.9"
  },
  "nteract": {
   "version": "nteract-front-end@1.0.0"
  }
 },
 "nbformat": 4,
 "nbformat_minor": 2
}
