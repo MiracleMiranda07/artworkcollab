{
 "cells": [
  {
   "cell_type": "code",
   "execution_count": 1,
   "metadata": {
    "gather": {
     "logged": 1643717035394
    }
   },
   "outputs": [
    {
     "name": "stdout",
     "output_type": "stream",
     "text": [
      "SDK version: 1.36.0\n"
     ]
    }
   ],
   "source": [
    "import os\n",
    "import datetime\n",
    "import azureml.core\n",
    "\n",
    "from azureml.core import Workspace, Experiment, Datastore, Dataset \n",
    "from azureml.pipeline.core import Pipeline, PipelineData, PipelineRun\n",
    "from azureml.pipeline.steps import PythonScriptStep\n",
    " \n",
    "from azureml.core.compute import ComputeTarget, AmlCompute\n",
    "from azureml.core.compute_target import ComputeTargetException\n",
    " \n",
    "from azureml.core.runconfig import RunConfiguration\n",
    "from azureml.core.conda_dependencies import CondaDependencies\n",
    " \n",
    "from azureml.core.model import Model\n",
    "\n",
    " \n",
    "# Check core SDK version number\n",
    "print(\"SDK version:\", azureml.core.VERSION)"
   ]
  },
  {
   "cell_type": "code",
   "execution_count": 2,
   "metadata": {
    "gather": {
     "logged": 1643717035605
    }
   },
   "outputs": [],
   "source": [
    "experiment_name = 'ArtworkCollabModelTraining'\n",
    "datastore_name = 'mltrainingdata'\n",
    "\n",
    "input_dataset_name = 'collab_config'\n",
    "input_data_name = 'collab_config_json'\n",
    "\n",
    "# Static path for collab config JSON in datastore\n",
    "input_data_path = 'configs/collaborative'"
   ]
  },
  {
   "cell_type": "code",
   "execution_count": 3,
   "metadata": {},
   "outputs": [],
   "source": [
    "# finding workspace\n",
    "\n",
    "ws = Workspace.from_config()\n",
    "datastore = Datastore.get(ws, datastore_name=datastore_name)"
   ]
  },
  {
   "cell_type": "code",
   "execution_count": 4,
   "metadata": {},
   "outputs": [
    {
     "name": "stdout",
     "output_type": "stream",
     "text": [
      "Workspace name: aiml-workspace-dev\n",
      "Workspacev resource group: analytics_mart_dev_rg\n",
      "Datastore name: mltrainingdata\n",
      "container name: ml-training-data\n",
      "account name: analyticsmartdevadls\n"
     ]
    }
   ],
   "source": [
    "print(f'Workspace name: {ws.name}')\n",
    "print(f'Workspacev resource group: {ws.resource_group}')\n",
    "print(f'Datastore name: {datastore.name}')\n",
    "print(f'container name: {datastore.container_name}')\n",
    "print(f'account name: {datastore.account_name}')"
   ]
  },
  {
   "cell_type": "code",
   "execution_count": 5,
   "metadata": {},
   "outputs": [
    {
     "name": "stdout",
     "output_type": "stream",
     "text": [
      "found existing compute target.\n",
      "Azure Machine Learning Compute attached\n"
     ]
    }
   ],
   "source": [
    "aml_compute_target = \"demo-cluster\"\n",
    "try:\n",
    "    aml_compute = AmlCompute(ws, aml_compute_target)\n",
    "    print(\"found existing compute target.\")\n",
    "except ComputeTargetException:\n",
    "    print(\"creating new compute target\")\n",
    "    \n",
    "    provisioning_config = AmlCompute.provisioning_configuration(vm_size = \"STANDARD_D2_V2\",\n",
    "                                                                min_nodes = 1, \n",
    "                                                                max_nodes = 4)    \n",
    "    aml_compute = ComputeTarget.create(ws, aml_compute_target, provisioning_config)\n",
    "    aml_compute.wait_for_completion(show_output=True, min_node_count=None, timeout_in_minutes=20)\n",
    "    \n",
    "print(\"Azure Machine Learning Compute attached\")"
   ]
  },
  {
   "cell_type": "code",
   "execution_count": 6,
   "metadata": {},
   "outputs": [
    {
     "name": "stderr",
     "output_type": "stream",
     "text": [
      "'enabled' is deprecated. Please use the azureml.core.runconfig.DockerConfiguration object with the 'use_docker' param instead.\n"
     ]
    }
   ],
   "source": [
    "aml_run_config = RunConfiguration()\n",
    " \n",
    "aml_run_config.target = aml_compute\n",
    "aml_run_config.environment.docker.enabled = True\n",
    "aml_run_config.environment.docker.base_image = \"mcr.microsoft.com/azureml/base:latest\"\n",
    " \n",
    "aml_run_config.environment.python.user_managed_dependencies = False\n",
    " \n",
    "aml_run_config.environment.python.conda_dependencies = CondaDependencies.create(\n",
    "    conda_packages=['pandas','scikit-learn','numpy', 'azure-storage'], \n",
    "    pip_packages=['joblib','azureml-sdk','fusepy', 'nltk', 'cryptography==3.4.8'], \n",
    "    pin_sdk_version=False)"
   ]
  },
  {
   "cell_type": "code",
   "execution_count": 7,
   "metadata": {},
   "outputs": [
    {
     "data": {
      "text/plain": [
       "['/collab_configs.json']"
      ]
     },
     "execution_count": 7,
     "metadata": {},
     "output_type": "execute_result"
    }
   ],
   "source": [
    "dataset = Dataset.File.from_files(datastore.path(input_data_path))\n",
    "dataset = dataset.register(ws, input_dataset_name, create_new_version=True)\n",
    "collab_config = dataset.as_named_input(input_data_name)\n",
    "model_registration_flag = PipelineData(\"model_registration_flag\", datastore=datastore).as_dataset()\n",
    "\n",
    "# see a list of files referenced by dataset\n",
    "dataset.to_path()"
   ]
  },
  {
   "cell_type": "code",
   "execution_count": 8,
   "metadata": {},
   "outputs": [],
   "source": [
    "source_directory=\"./collaborative\"\n",
    "step1 = PythonScriptStep(name=\"train\",\n",
    "                         script_name=\"./artwork_collab_model_training.py\", \n",
    "                         arguments=[\"--model_registration_flag\", model_registration_flag],\n",
    "                         inputs=[collab_config],\n",
    "                         outputs=[model_registration_flag],\n",
    "                         compute_target=aml_compute, \n",
    "                         runconfig=aml_run_config,\n",
    "                         source_directory=source_directory,\n",
    "                         allow_reuse=False)"
   ]
  },
  {
   "cell_type": "code",
   "execution_count": 9,
   "metadata": {},
   "outputs": [],
   "source": [
    "source_directory=\"./scoring\"\n",
    "step2 = PythonScriptStep(name=\"score\",\n",
    "                         script_name=\"./model_deployment.py\", \n",
    "                         arguments=[\"--model_registration_flag\", model_registration_flag],\n",
    "                         inputs=[model_registration_flag],\n",
    "                         compute_target=aml_compute, \n",
    "                         runconfig=aml_run_config,\n",
    "                         source_directory=source_directory,\n",
    "                         allow_reuse=False)"
   ]
  },
  {
   "cell_type": "code",
   "execution_count": 10,
   "metadata": {},
   "outputs": [],
   "source": [
    "steps = [step1, step2]\n",
    "# steps = [step1]"
   ]
  },
  {
   "cell_type": "code",
   "execution_count": 11,
   "metadata": {},
   "outputs": [
    {
     "name": "stdout",
     "output_type": "stream",
     "text": [
      "Created step train [9fb98942][8d8a0507-a156-472c-a7b8-006b6d14bccb], (This step will run and generate new outputs)\n",
      "Created step score [2aa3ef01][10fc56e9-6202-4953-81e2-ba9ff51ca232], (This step will run and generate new outputs)\n",
      "Submitted PipelineRun 33293fb2-9779-4ed9-8ac0-85f584565178\n",
      "Link to Azure Machine Learning Portal: https://ml.azure.com/runs/33293fb2-9779-4ed9-8ac0-85f584565178?wsid=/subscriptions/a00a8e0f-73c4-4480-8097-07bf63060185/resourcegroups/analytics_mart_dev_rg/workspaces/aiml-workspace-dev&tid=4deb802f-fdf2-4ebe-ae9b-8df74fb06435\n"
     ]
    }
   ],
   "source": [
    "pipeline = Pipeline(workspace=ws, steps=steps)\n",
    "pipeline_run = Experiment(ws, experiment_name).submit(pipeline, regenerate_outputs=True)"
   ]
  },
  {
   "cell_type": "code",
   "execution_count": null,
   "metadata": {},
   "outputs": [],
   "source": []
  },
  {
   "cell_type": "code",
   "execution_count": null,
   "metadata": {},
   "outputs": [],
   "source": []
  }
 ],
 "metadata": {
  "kernel_info": {
   "name": "python3-azureml"
  },
  "kernelspec": {
   "display_name": "Python 3.6 - AzureML",
   "language": "python",
   "name": "python3-azureml"
  },
  "language_info": {
   "codemirror_mode": {
    "name": "ipython",
    "version": 3
   },
   "file_extension": ".py",
   "mimetype": "text/x-python",
   "name": "python",
   "nbconvert_exporter": "python",
   "pygments_lexer": "ipython3",
   "version": "3.6.9"
  },
  "nteract": {
   "version": "nteract-front-end@1.0.0"
  }
 },
 "nbformat": 4,
 "nbformat_minor": 2
}
