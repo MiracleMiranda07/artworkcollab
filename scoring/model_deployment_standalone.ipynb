{
 "cells": [
  {
   "cell_type": "markdown",
   "metadata": {
    "nteract": {
     "transient": {
      "deleting": false
     }
    }
   },
   "source": [
    "# Import Libraries"
   ]
  },
  {
   "cell_type": "code",
   "execution_count": 1,
   "metadata": {
    "gather": {
     "logged": 1645181442903
    }
   },
   "outputs": [],
   "source": [
    "import os\n",
    "import pickle\n",
    "import azureml.core\n",
    "from azureml.core import Workspace, Dataset, Datastore\n",
    "from azureml.core.environment import Environment\n",
    "from azureml.core.model import Model, InferenceConfig\n",
    "from azureml.core.webservice import AciWebservice, AksWebservice, Webservice\n",
    "from azureml.core.compute import ComputeTarget, AksCompute, AmlCompute\n",
    "from azureml.core.compute_target import ComputeTargetException\n",
    "from azureml.exceptions import WebserviceException\n",
    "\n",
    "from pathlib import Path\n",
    "\n",
    "from IPython.core.interactiveshell import InteractiveShell\n",
    "InteractiveShell.ast_node_interactivity = 'all'"
   ]
  },
  {
   "cell_type": "markdown",
   "metadata": {
    "nteract": {
     "transient": {
      "deleting": false
     }
    }
   },
   "source": [
    "# AzureML SDK Version"
   ]
  },
  {
   "cell_type": "code",
   "execution_count": 2,
   "metadata": {
    "gather": {
     "logged": 1645181443007
    }
   },
   "outputs": [
    {
     "name": "stdout",
     "output_type": "stream",
     "text": [
      "SDK version: 1.36.0\n"
     ]
    }
   ],
   "source": [
    "# Check core SDK version number\n",
    "print(\"SDK version:\", azureml.core.VERSION)"
   ]
  },
  {
   "cell_type": "markdown",
   "metadata": {
    "nteract": {
     "transient": {
      "deleting": false
     }
    }
   },
   "source": [
    "# WorkSpace Config"
   ]
  },
  {
   "cell_type": "code",
   "execution_count": 3,
   "metadata": {
    "gather": {
     "logged": 1645181443363
    }
   },
   "outputs": [
    {
     "name": "stdout",
     "output_type": "stream",
     "text": [
      "Library configuration succeeded\n",
      "aiml-workspace-dev\n",
      "analytics_mart_dev_rg\n",
      "northeurope\n",
      "a00a8e0f-73c4-4480-8097-07bf63060185\n"
     ]
    }
   ],
   "source": [
    "global ws\n",
    "\n",
    "ws=None\n",
    "try:\n",
    "    ws = Workspace.from_config()\n",
    "    print('Library configuration succeeded')\n",
    "    print(ws.name, ws.resource_group, ws.location, ws.subscription_id, sep='\\n')\n",
    "except:\n",
    "    print('Workspace not found')\n",
    "\n"
   ]
  },
  {
   "cell_type": "markdown",
   "metadata": {
    "nteract": {
     "transient": {
      "deleting": false
     }
    }
   },
   "source": [
    "# Environment Config"
   ]
  },
  {
   "cell_type": "markdown",
   "metadata": {
    "nteract": {
     "transient": {
      "deleting": false
     }
    }
   },
   "source": [
    "## create env from conda specification file"
   ]
  },
  {
   "cell_type": "code",
   "execution_count": 4,
   "metadata": {
    "gather": {
     "logged": 1645181443492
    },
    "jupyter": {
     "outputs_hidden": false,
     "source_hidden": false
    },
    "nteract": {
     "transient": {
      "deleting": false
     }
    }
   },
   "outputs": [],
   "source": [
    "scoring_custom_env = Environment.from_conda_specification(name='scoring-conda-env', file_path='./conda_dep_scoring.yml')"
   ]
  },
  {
   "cell_type": "markdown",
   "metadata": {
    "nteract": {
     "transient": {
      "deleting": false
     }
    }
   },
   "source": [
    "## Get params"
   ]
  },
  {
   "cell_type": "code",
   "execution_count": 5,
   "metadata": {
    "gather": {
     "logged": 1645181447092
    },
    "jupyter": {
     "outputs_hidden": false,
     "source_hidden": false
    },
    "nteract": {
     "transient": {
      "deleting": false
     }
    }
   },
   "outputs": [
    {
     "data": {
      "text/plain": [
       "' Read parameters from scoring_params config file '"
      ]
     },
     "execution_count": 5,
     "metadata": {},
     "output_type": "execute_result"
    },
    {
     "name": "stdout",
     "output_type": "stream",
     "text": [
      "PARAMS dir: /mnt/batch/tasks/shared/LS_root/mounts/clusters/rmilton4/code/Users/rmilton/scoring/params\n"
     ]
    }
   ],
   "source": [
    "''' Read parameters from scoring_params config file '''\n",
    "def get_params(ws):\n",
    "    try:\n",
    "        __path__= './params'\n",
    "        PARAMS_DIR = os.path.realpath(__path__)\n",
    "        print(f\"PARAMS dir: {PARAMS_DIR}\")\n",
    "\n",
    "        dset1 = Dataset.get_by_name(ws, name='scoring_params')\n",
    "        dset1.download(target_path=PARAMS_DIR, overwrite=True)\n",
    "\n",
    "        import json\n",
    "        params_file_path = os.path.join(PARAMS_DIR, 'parameters.json')\n",
    "        with open(params_file_path) as f:\n",
    "            params = json.load(f)\n",
    "\n",
    "        response = {'status': True, 'params': params}\n",
    "    except Exception as e:\n",
    "        response = {'status': False, 'error' : f\"Exception occurred while reading parameters from scoring config file. Error- {e}\"}\n",
    "\n",
    "    return response\n",
    "\n",
    "params_response = get_params(ws)\n",
    "\n",
    "params={}\n",
    "if params_response['status'] == True:\n",
    "    params = params_response['params']\n",
    "else:\n",
    "    print(params_response['error'])"
   ]
  },
  {
   "cell_type": "code",
   "execution_count": 6,
   "metadata": {
    "gather": {
     "logged": 1645181447192
    },
    "jupyter": {
     "outputs_hidden": false,
     "source_hidden": false
    },
    "nteract": {
     "transient": {
      "deleting": false
     }
    }
   },
   "outputs": [],
   "source": [
    "AZURE_TENANT_ID = params['TENANT_ID']\n",
    "AZURE_CLIENT_ID = params['PRINCIPAL_ID']\n",
    "AZURE_CLIENT_SECRET = params['PRINCIPAL_PWD']\n",
    "SUBSCRIPTION_ID = params['SUBSCRIPTION_ID']\n",
    "RESOURCE_GP = params['RESOURCE_GP']\n",
    "WORKSPACE_NAME = params['WORKSPACE_NAME']\n",
    "KEY_VAULT_NAME = params['KEY_VAULT_NAME']\n",
    "STORAGE_ACCOUNT = params[\"STORAGE_ACCOUNT\"]\n",
    "STORAGE_KEY = params[\"STORAGE_KEY\"]\n",
    "ANALYTICS_CONTAINER = params[\"ANALYTICS_CONTAINER\"]\n",
    "EVTDATA_FOLDER = params[\"EVTDATA_FOLDER\"]\n",
    "INFERENCE_CONTAINER = params[\"INFERENCE_CONTAINER\"]\n",
    "artwork_detail_filter_value= params[\"ARTWORK_DETAIL_FILTER_VALUE\"]\n",
    "room_detail_filter_value= params[\"ROOM_DETAIL_FILTER_VALUE\"]\n",
    "artwork_grid_filter_value= params[\"ARTWORK_GRID_FILTER_VALUE\"]\n",
    "room_grid_filter_value= params[\"ROOM_GRID_FILTER_VALUE\"]\n",
    "shuffle_grid_val = params[\"SHUFFLE_GRID_VAL\"]\n",
    "shuffle_detail_val = params[\"SHUFFLE_DETAIL_VAL\"]\n"
   ]
  },
  {
   "cell_type": "code",
   "execution_count": 7,
   "metadata": {
    "gather": {
     "logged": 1645181447304
    },
    "jupyter": {
     "outputs_hidden": false,
     "source_hidden": false
    },
    "nteract": {
     "transient": {
      "deleting": false
     }
    }
   },
   "outputs": [],
   "source": [
    "#Create a dictionary to set-up the env variables   \n",
    "env_variables={\"AZURE_TENANT_ID\": AZURE_TENANT_ID,\n",
    "               \"AZURE_CLIENT_ID\": AZURE_CLIENT_ID,\n",
    "               \"AZURE_CLIENT_SECRET\": AZURE_CLIENT_SECRET,\n",
    "               \"SUBSCRIPTION_ID\": SUBSCRIPTION_ID,\n",
    "                \"RESOURCE_GP\": RESOURCE_GP,\n",
    "                \"WORKSPACE_NAME\": WORKSPACE_NAME,\n",
    "                \"KEY_VAULT_NAME\": KEY_VAULT_NAME,\n",
    "                \"STORAGE_ACCOUNT\": STORAGE_ACCOUNT,\n",
    "                \"STORAGE_KEY\": STORAGE_KEY,\n",
    "                \"ANALYTICS_CONTAINER\": ANALYTICS_CONTAINER,\n",
    "                \"EVTDATA_FOLDER\": EVTDATA_FOLDER,\n",
    "                \"INFERENCE_CONTAINER\": INFERENCE_CONTAINER,\n",
    "                \"artwork_detail_filter_value\": artwork_detail_filter_value,\n",
    "                \"room_detail_filter_value\": room_detail_filter_value,\n",
    "                \"artwork_grid_filter_value\": artwork_grid_filter_value,\n",
    "                \"room_grid_filter_value\": room_grid_filter_value,\n",
    "                \"shuffle_grid_val\": shuffle_grid_val,\n",
    "                \"shuffle_detail_val\": shuffle_detail_val\n",
    "               }\n",
    "    \n",
    "scoring_custom_env.environment_variables=env_variables"
   ]
  },
  {
   "cell_type": "markdown",
   "metadata": {
    "nteract": {
     "transient": {
      "deleting": false
     }
    }
   },
   "source": [
    "# Inference Config"
   ]
  },
  {
   "cell_type": "code",
   "execution_count": 8,
   "metadata": {
    "gather": {
     "logged": 1645181447407
    },
    "jupyter": {
     "outputs_hidden": false,
     "source_hidden": false
    },
    "nteract": {
     "transient": {
      "deleting": false
     }
    }
   },
   "outputs": [
    {
     "name": "stdout",
     "output_type": "stream",
     "text": [
      "\n",
      "\t Inference config successfully loaded.. \n"
     ]
    }
   ],
   "source": [
    "global inference_config\n",
    "inference_config=None\n",
    "\n",
    "try:\n",
    "    # env = Environment(name=env_name)\n",
    "    # env.inferencing_stack_version = \"latest\"\n",
    "    source_directory = os.path.realpath('.')\n",
    "    \n",
    "    inference_config = InferenceConfig(entry_script=\"score_latest.py\",\n",
    "                                    source_directory=source_directory,\n",
    "                                    environment=scoring_custom_env                                    \n",
    "                                    )\n",
    "\n",
    "    print(f'\\n\\t Inference config successfully loaded.. ')\n",
    "except Exception as e:\n",
    "    print(f'\\n\\t Inference config error: {e}')"
   ]
  },
  {
   "cell_type": "markdown",
   "metadata": {
    "nteract": {
     "transient": {
      "deleting": false
     }
    }
   },
   "source": [
    "# Get respective models"
   ]
  },
  {
   "cell_type": "code",
   "execution_count": 9,
   "metadata": {
    "gather": {
     "logged": 1645181448120
    },
    "jupyter": {
     "outputs_hidden": false,
     "source_hidden": false
    },
    "nteract": {
     "transient": {
      "deleting": false
     }
    }
   },
   "outputs": [
    {
     "name": "stdout",
     "output_type": "stream",
     "text": [
      "\n",
      "\t Model loaded successfully.. \n",
      "\n",
      "\t artwork_content_model.pkl/74 | artwork_collab_model.pkl/98 | room_content_model.pkl/61 | room_collab_model.pkl/39\n"
     ]
    }
   ],
   "source": [
    "global mdl1, mdl2, mdl3, mdl4\n",
    "mdl1=None\n",
    "mdl2=None\n",
    "mdl3=None\n",
    "mdl4=None\n",
    "\n",
    "try:\n",
    "    mdl1 = ws.models[\"artwork_content_model.pkl\"]\n",
    "    mdl2 = ws.models[\"artwork_collab_model.pkl\"]\n",
    "    mdl3 = ws.models[\"room_content_model.pkl\"]\n",
    "    mdl4 = ws.models[\"room_collab_model.pkl\"]\n",
    "\n",
    "    print(f'\\n\\t Model loaded successfully.. ') \n",
    "    print(f'\\n\\t {mdl1.name+\"/\"+str(mdl1.version)} | {mdl2.name+\"/\"+str(mdl2.version)} | {mdl3.name+\"/\"+str(mdl3.version)} | {mdl4.name+\"/\"+str(mdl4.version)}')\n",
    "except Exception as e:\n",
    "    print(f'\\n\\t Model load error.. {e}')\n"
   ]
  },
  {
   "cell_type": "markdown",
   "metadata": {
    "nteract": {
     "transient": {
      "deleting": false
     }
    }
   },
   "source": [
    "# Deploy Model as Webservice on Azure"
   ]
  },
  {
   "cell_type": "markdown",
   "metadata": {
    "nteract": {
     "transient": {
      "deleting": false
     }
    }
   },
   "source": [
    "## Method -1: Using Aks Service"
   ]
  },
  {
   "cell_type": "markdown",
   "metadata": {
    "nteract": {
     "transient": {
      "deleting": false
     }
    }
   },
   "source": [
    "### create cluster"
   ]
  },
  {
   "cell_type": "code",
   "execution_count": 10,
   "metadata": {
    "gather": {
     "logged": 1645181448291
    },
    "jupyter": {
     "outputs_hidden": false,
     "source_hidden": false
    },
    "nteract": {
     "transient": {
      "deleting": false
     }
    }
   },
   "outputs": [
    {
     "name": "stdout",
     "output_type": "stream",
     "text": [
      "Found existing cluster, use it.\n"
     ]
    }
   ],
   "source": [
    "# Choose a name for inference cluster\n",
    "inference_cluster_name = \"test-cluster\"\n",
    "\n",
    "# Verify that the cluster does not exist already\n",
    "try:\n",
    "    aks_target = ComputeTarget(workspace=ws, name=inference_cluster_name)\n",
    "    \n",
    "    print('Found existing cluster, use it.')\n",
    "except ComputeTargetException:\n",
    "    print(f'No such compute found, creating new')\n",
    "    prov_config = AksCompute.provisioning_configuration(vm_size = \"STANDARD_D2_V2\")\n",
    "    prov_config.enable_ssl(leaf_domain_label = \"contoso\")\n",
    "\n",
    "    # Create the cluster\n",
    "    aks_target = ComputeTarget.create(workspace = ws,\n",
    "                                        name = inference_cluster_name,\n",
    "                                        provisioning_configuration = prov_config)\n",
    "\n",
    "    aks_target.wait_for_completion(show_output=True)"
   ]
  },
  {
   "cell_type": "markdown",
   "metadata": {
    "nteract": {
     "transient": {
      "deleting": false
     }
    }
   },
   "source": [
    "### run web service"
   ]
  },
  {
   "cell_type": "code",
   "execution_count": null,
   "metadata": {
    "gather": {
     "logged": 1645181519129
    },
    "jupyter": {
     "outputs_hidden": false,
     "source_hidden": false
    },
    "nteract": {
     "transient": {
      "deleting": false
     }
    }
   },
   "outputs": [
    {
     "name": "stdout",
     "output_type": "stream",
     "text": [
      "Tips: You can try get_logs(): https://aka.ms/debugimage#dockerlog or local deployment: https://aka.ms/debugimage#debug-locally to debug if deployment takes longer than 10 minutes.\n",
      "Running\n",
      "2022-02-25 02:51:48+00:00 Creating Container Registry if not exists.\n",
      "2022-02-25 02:51:48+00:00 Registering the environment.\n",
      "2022-02-25 02:51:49+00:00 Building image."
     ]
    }
   ],
   "source": [
    "aks_service_name= 'aks-mch-recommendation-v3'\n",
    "\n",
    "try:\n",
    "    deployment_config = AksWebservice.deploy_configuration(cpu_cores = 0.5,\n",
    "                    memory_gb = 0.5,\n",
    "                    auth_enabled = True,\n",
    "                    autoscale_enabled = True,\n",
    "                    enable_app_insights = True,\n",
    "                    description = 'Endpoint fr Testing --- MCH Recommender Web Service using directly AKS')\n",
    "    \n",
    "    service = Model.deploy(ws,\n",
    "                    aks_service_name,\n",
    "                    models = [mdl1, mdl2, mdl3, mdl4],\n",
    "                    inference_config = inference_config,\n",
    "                    deployment_config = deployment_config, \n",
    "                    deployment_target = aks_target, overwrite = True)\n",
    "\n",
    "    service.wait_for_deployment(show_output = True)\n",
    "    print(f'\\n\\t AKS Deployment done...')\n",
    "except Exception as e:\n",
    "    print(f'Web Service Deployment Error: {e}')"
   ]
  },
  {
   "cell_type": "markdown",
   "metadata": {
    "nteract": {
     "transient": {
      "deleting": false
     }
    }
   },
   "source": [
    "### Get existing webservice"
   ]
  },
  {
   "cell_type": "code",
   "execution_count": 12,
   "metadata": {
    "gather": {
     "logged": 1645181520362
    },
    "jupyter": {
     "outputs_hidden": false,
     "source_hidden": false
    },
    "nteract": {
     "transient": {
      "deleting": false
     }
    }
   },
   "outputs": [],
   "source": [
    "aks_service = AksWebservice(ws, aks_service_name)"
   ]
  },
  {
   "cell_type": "code",
   "execution_count": 13,
   "metadata": {
    "gather": {
     "logged": 1645181520908
    },
    "jupyter": {
     "outputs_hidden": false,
     "source_hidden": false
    },
    "nteract": {
     "transient": {
      "deleting": false
     }
    }
   },
   "outputs": [
    {
     "name": "stdout",
     "output_type": "stream",
     "text": [
      "service state: Healthy\n",
      "2022-02-18T10:51:02,116738295+00:00 - rsyslog/run \n",
      "2022-02-18T10:51:02,121710751+00:00 - iot-server/run \n",
      "2022-02-18T10:51:02,128884834+00:00 - gunicorn/run \n",
      "Dynamic Python package installation is disabled.\n",
      "Starting HTTP server\n",
      "2022-02-18T10:51:02,129947646+00:00 - nginx/run \n",
      "EdgeHubConnectionString and IOTEDGE_IOTHUBHOSTNAME are not set. Exiting...\n",
      "2022-02-18T10:51:02,236081861+00:00 - iot-server/finish 1 0\n",
      "2022-02-18T10:51:02,237727879+00:00 - Exit code 1 is normal. Not restarting iot-server.\n",
      "Starting gunicorn 20.1.0\n",
      "Listening at: http://127.0.0.1:31311 (12)\n",
      "Using worker: sync\n",
      "worker timeout is set to 300\n",
      "Booting worker with pid: 37\n",
      "SPARK_HOME not set. Skipping PySpark Initialization.\n",
      "NumExpr defaulting to 2 threads.\n",
      "Initializing logger\n",
      "2022-02-18 10:51:04,544 | root | INFO | Starting up app insights client\n",
      "logging socket was found. logging is available.\n",
      "logging socket was found. logging is available.\n",
      "2022-02-18 10:51:04,545 | root | INFO | Starting up request id generator\n",
      "2022-02-18 10:51:04,545 | root | INFO | Starting up app insight hooks\n",
      "2022-02-18 10:51:04,545 | root | INFO | Invoking user's init function\n",
      "tenanT id: 4deb802f-fdf2-4ebe-ae9b-8df74fb06435\n",
      "no request id,tenanT id: 4deb802f-fdf2-4ebe-ae9b-8df74fb06435\n",
      "\n",
      "Request URL: 'https://aimlworkspaced9373591174.vault.azure.net/secrets/STORAGE-KEY/?api-version=REDACTED'/nRequest method: 'GET'/nRequest headers:/n    'Accept': 'application/json'/n    'x-ms-client-request-id': 'ab5e2590-90a8-11ec-9170-5e5b270708d3'/n    'User-Agent': 'azsdk-python-keyvault-secrets/4.3.0 Python/3.8.12 (Linux-5.4.0-1068-azure-x86_64-with-glibc2.17)'/n    'Content-Length': '0'/nNo body was attached to the request\n",
      "Response status: 401/nResponse headers:/n    'Cache-Control': 'no-cache'/n    'Pragma': 'no-cache'/n    'Content-Length': '97'/n    'Content-Type': 'application/json; charset=utf-8'/n    'Expires': '-1'/n    'WWW-Authenticate': 'REDACTED'/n    'x-ms-keyvault-region': 'northeurope'/n    'x-ms-client-request-id': 'ab5e2590-90a8-11ec-9170-5e5b270708d3'/n    'x-ms-request-id': '1ebae0a1-0880-49f6-8dfc-6286414d46a2'/n    'x-ms-keyvault-service-version': '1.9.276.1'/n    'x-ms-keyvault-network-info': 'conn_type=Ipv4;addr=40.127.243.252;act_addr_fam=InterNetwork;'/n    'X-Powered-By': 'REDACTED'/n    'Strict-Transport-Security': 'REDACTED'/n    'X-Content-Type-Options': 'REDACTED'/n    'Date': 'Fri, 18 Feb 2022 10:51:04 GMT'\n",
      "Request URL: 'https://login.microsoftonline.com/4deb802f-fdf2-4ebe-ae9b-8df74fb06435/v2.0/.well-known/openid-configuration'/nRequest method: 'GET'/nRequest headers:/n    'User-Agent': 'azsdk-python-identity/1.7.0 Python/3.8.12 (Linux-5.4.0-1068-azure-x86_64-with-glibc2.17)'/nNo body was attached to the request\n",
      "Response status: 200/nResponse headers:/n    'Cache-Control': 'max-age=86400, private'/n    'Content-Type': 'application/json; charset=utf-8'/n    'Strict-Transport-Security': 'REDACTED'/n    'X-Content-Type-Options': 'REDACTED'/n    'Access-Control-Allow-Origin': 'REDACTED'/n    'Access-Control-Allow-Methods': 'REDACTED'/n    'P3P': 'REDACTED'/n    'x-ms-request-id': '1f8a7fe3-5f5d-4482-acbb-6e7c85a00500'/n    'x-ms-ests-server': 'REDACTED'/n    'Set-Cookie': 'REDACTED'/n    'Date': 'Fri, 18 Feb 2022 10:51:04 GMT'/n    'Content-Length': '1753'\n",
      "Request URL: 'https://login.microsoftonline.com/common/discovery/instance?api-version=REDACTED&authorization_endpoint=REDACTED'/nRequest method: 'GET'/nRequest headers:/n    'Accept': 'application/json'/n    'User-Agent': 'azsdk-python-identity/1.7.0 Python/3.8.12 (Linux-5.4.0-1068-azure-x86_64-with-glibc2.17)'/nNo body was attached to the request\n",
      "Response status: 200/nResponse headers:/n    'Cache-Control': 'max-age=86400, private'/n    'Content-Type': 'application/json; charset=utf-8'/n    'Strict-Transport-Security': 'REDACTED'/n    'X-Content-Type-Options': 'REDACTED'/n    'Access-Control-Allow-Origin': 'REDACTED'/n    'Access-Control-Allow-Methods': 'REDACTED'/n    'P3P': 'REDACTED'/n    'x-ms-request-id': '587c4fa2-4968-42b3-b69f-4c4f5fe25f00'/n    'x-ms-ests-server': 'REDACTED'/n    'Set-Cookie': 'REDACTED'/n    'Date': 'Fri, 18 Feb 2022 10:51:04 GMT'/n    'Content-Length': '945'\n",
      "Request URL: 'https://login.microsoftonline.com/4deb802f-fdf2-4ebe-ae9b-8df74fb06435/oauth2/v2.0/token'/nRequest method: 'POST'/nRequest headers:/n    'Accept': 'application/json'/n    'x-client-sku': 'REDACTED'/n    'x-client-ver': 'REDACTED'/n    'x-client-os': 'REDACTED'/n    'x-client-cpu': 'REDACTED'/n    'x-ms-lib-capability': 'REDACTED'/n    'client-request-id': 'REDACTED'/n    'x-client-current-telemetry': 'REDACTED'/n    'x-client-last-telemetry': 'REDACTED'/n    'User-Agent': 'azsdk-python-identity/1.7.0 Python/3.8.12 (Linux-5.4.0-1068-azure-x86_64-with-glibc2.17)'/nA body is sent with the request\n",
      "Response status: 200/nResponse headers:/n    'Cache-Control': 'no-store, no-cache'/n    'Pragma': 'no-cache'/n    'Content-Type': 'application/json; charset=utf-8'/n    'Expires': '-1'/n    'Strict-Transport-Security': 'REDACTED'/n    'X-Content-Type-Options': 'REDACTED'/n    'P3P': 'REDACTED'/n    'client-request-id': 'REDACTED'/n    'x-ms-request-id': '7d54773a-6655-4af4-b798-616756e16d00'/n    'x-ms-ests-server': 'REDACTED'/n    'x-ms-clitelem': 'REDACTED'/n    'Set-Cookie': 'REDACTED'/n    'Date': 'Fri, 18 Feb 2022 10:51:04 GMT'/n    'Content-Length': '1313'\n",
      "ClientSecretCredential.get_token succeeded\n",
      "Request URL: 'https://aimlworkspaced9373591174.vault.azure.net/secrets/STORAGE-KEY/?api-version=REDACTED'/nRequest method: 'GET'/nRequest headers:/n    'Accept': 'application/json'/n    'x-ms-client-request-id': 'ab5e2590-90a8-11ec-9170-5e5b270708d3'/n    'User-Agent': 'azsdk-python-keyvault-secrets/4.3.0 Python/3.8.12 (Linux-5.4.0-1068-azure-x86_64-with-glibc2.17)'/n    'Authorization': 'REDACTED'/nNo body was attached to the request\n",
      "Response status: 200/nResponse headers:/n    'Cache-Control': 'no-cache'/n    'Pragma': 'no-cache'/n    'Content-Type': 'application/json; charset=utf-8'/n    'Expires': '-1'/n    'x-ms-keyvault-region': 'northeurope'/n    'x-ms-client-request-id': 'ab5e2590-90a8-11ec-9170-5e5b270708d3'/n    'x-ms-request-id': '57a441bc-97ce-4f84-9baf-6d59162c712c'/n    'x-ms-keyvault-service-version': '1.9.276.1'/n    'x-ms-keyvault-network-info': 'conn_type=Ipv4;addr=40.127.243.252;act_addr_fam=InterNetwork;'/n    'X-Powered-By': 'REDACTED'/n    'Strict-Transport-Security': 'REDACTED'/n    'X-Content-Type-Options': 'REDACTED'/n    'Date': 'Fri, 18 Feb 2022 10:51:04 GMT'/n    'Content-Length': '386'\n",
      "Request URL: 'https://management.azure.com/subscriptions?api-version=REDACTED'/nRequest method: 'GET'/nRequest headers:/n    'Accept': 'application/json'/n    'x-ms-client-request-id': 'ab9a0826-90a8-11ec-9170-5e5b270708d3'/n    'User-Agent': 'azsdk-python-azure-mgmt-resource/19.0.0 Python/3.8.12 (Linux-5.4.0-1068-azure-x86_64-with-glibc2.17)'/n    'Authorization': 'REDACTED'/nNo body was attached to the request\n",
      "Response status: 200/nResponse headers:/n    'Cache-Control': 'no-cache'/n    'Pragma': 'no-cache'/n    'Content-Type': 'application/json; charset=utf-8'/n    'Content-Encoding': 'REDACTED'/n    'Expires': '-1'/n    'Vary': 'REDACTED'/n    'x-ms-ratelimit-remaining-tenant-reads': '11993'/n    'x-ms-request-id': 'eac9e394-78f1-4143-ad4b-98e00612364b'/n    'x-ms-correlation-request-id': 'REDACTED'/n    'x-ms-routing-request-id': 'REDACTED'/n    'Strict-Transport-Security': 'REDACTED'/n    'X-Content-Type-Options': 'REDACTED'/n    'Date': 'Fri, 18 Feb 2022 10:51:04 GMT'/n    'Content-Length': '427'\n",
      "Library configuration succeeded\n",
      "no request id,Library configuration succeeded\n",
      "\n",
      "file path :\n",
      "no request id,file path :\n",
      "\n",
      "/var/azureml-app/json_data/room_grid_view.json\n",
      "no request id,/var/azureml-app/json_data/room_grid_view.json\n",
      "\n",
      "file path :\n",
      "no request id,file path :\n",
      "\n",
      "/var/azureml-app/json_data/artwork_grid_view.json\n",
      "no request id,/var/azureml-app/json_data/artwork_grid_view.json\n",
      "\n",
      "file path :\n",
      "no request id,file path :\n",
      "\n",
      "/var/azureml-app/json_data/prev_artwork_id.json\n",
      "no request id,/var/azureml-app/json_data/prev_artwork_id.json\n",
      "\n",
      "file path :\n",
      "no request id,file path :\n",
      "\n",
      "/var/azureml-app/json_data/prev_room_id.json\n",
      "no request id,/var/azureml-app/json_data/prev_room_id.json\n",
      "\n",
      "2022-02-18 10:51:05,608 | azureml._restclient.clientbase | INFO | Created a worker pool for first use\n",
      "Created a worker pool for first use\n",
      "\n",
      "\t\t ***** Init complete ***** \t\n",
      "\n",
      "2022-02-18 10:51:10,749 | root | INFO | Users's init has completed successfully\n",
      "2022-02-18 10:51:10,751 | root | INFO | Skipping middleware: dbg_model_info as it's not enabled.\n",
      "2022-02-18 10:51:10,752 | root | INFO | Skipping middleware: dbg_resource_usage as it's not enabled.\n",
      "2022-02-18 10:51:10,752 | root | INFO | Scoring timeout setting is not found. Use default timeout: 3600000 ms\n",
      "2022-02-18 10:51:20,945 | root | INFO | Swagger file not present\n",
      "2022-02-18 10:51:20,946 | root | INFO | 404\n",
      "127.0.0.1 - - [18/Feb/2022:10:51:20 +0000] \"GET /swagger.json HTTP/1.0\" 404 19 \"-\" \"hackney/1.17.4\"\n",
      "2022-02-18 10:51:21,184 | root | INFO | Swagger file not present\n",
      "2022-02-18 10:51:21,185 | root | INFO | 404\n",
      "127.0.0.1 - - [18/Feb/2022:10:51:21 +0000] \"GET /swagger.json HTTP/1.0\" 404 19 \"-\" \"curl/7.79.1\"\n",
      "2022-02-18 10:51:26,538 | root | INFO | Swagger file not present\n",
      "2022-02-18 10:51:26,538 | root | INFO | 404\n",
      "127.0.0.1 - - [18/Feb/2022:10:51:26 +0000] \"GET /swagger.json HTTP/1.0\" 404 19 \"-\" \"hackney/1.17.4\"\n",
      "2022-02-18 10:51:26,835 | root | INFO | Swagger file not present\n",
      "2022-02-18 10:51:26,835 | root | INFO | 404\n",
      "127.0.0.1 - - [18/Feb/2022:10:51:26 +0000] \"GET /swagger.json HTTP/1.0\" 404 19 \"-\" \"curl/7.79.1\"\n",
      "2022-02-18 10:51:27,466 | root | INFO | Swagger file not present\n",
      "2022-02-18 10:51:27,466 | root | INFO | 404\n",
      "127.0.0.1 - - [18/Feb/2022:10:51:27 +0000] \"GET /swagger.json HTTP/1.0\" 404 19 \"-\" \"hackney/1.17.4\"\n",
      "2022-02-18 10:51:28,399 | root | INFO | Swagger file not present\n",
      "2022-02-18 10:51:28,400 | root | INFO | 404\n",
      "127.0.0.1 - - [18/Feb/2022:10:51:28 +0000] \"GET /swagger.json HTTP/1.0\" 404 19 \"-\" \"curl/7.79.1\"\n",
      "\n"
     ]
    }
   ],
   "source": [
    "print(f'service state: {aks_service.state}')\n",
    "print(aks_service.get_logs())"
   ]
  },
  {
   "cell_type": "code",
   "execution_count": 14,
   "metadata": {
    "gather": {
     "logged": 1645181521081
    },
    "jupyter": {
     "outputs_hidden": false,
     "source_hidden": false
    },
    "nteract": {
     "transient": {
      "deleting": false
     }
    }
   },
   "outputs": [
    {
     "name": "stdout",
     "output_type": "stream",
     "text": [
      "https://contosoc9ivkd.northeurope.cloudapp.azure.com:443/api/v1/service/aks-mch-recommendation-v3/score\n"
     ]
    }
   ],
   "source": [
    "print(aks_service.scoring_uri)"
   ]
  },
  {
   "cell_type": "code",
   "execution_count": 15,
   "metadata": {
    "gather": {
     "logged": 1645181521184
    },
    "jupyter": {
     "outputs_hidden": false,
     "source_hidden": false
    },
    "nteract": {
     "transient": {
      "deleting": false
     }
    }
   },
   "outputs": [
    {
     "data": {
      "text/plain": [
       "('4qP9jQXbHeOgHDaxwIGXbo005R0XI6kE', '38lEm1OtX3Qka0XiDe74jhPBg39oj0Zc')"
      ]
     },
     "execution_count": 15,
     "metadata": {},
     "output_type": "execute_result"
    }
   ],
   "source": [
    "primary_key, sec_key = aks_service.get_keys()\n",
    "primary_key, sec_key"
   ]
  },
  {
   "cell_type": "markdown",
   "metadata": {
    "nteract": {
     "transient": {
      "deleting": false
     }
    }
   },
   "source": [
    "# Consume web service"
   ]
  },
  {
   "cell_type": "code",
   "execution_count": 16,
   "metadata": {
    "collapsed": true,
    "gather": {
     "logged": 1645181521478
    },
    "jupyter": {
     "outputs_hidden": false,
     "source_hidden": false
    },
    "nteract": {
     "transient": {
      "deleting": false
     }
    }
   },
   "outputs": [
    {
     "data": {
      "text/plain": [
       "{'status': True,\n",
       " 'result': [141005,\n",
       "  139911,\n",
       "  139195,\n",
       "  139525,\n",
       "  139278,\n",
       "  140954,\n",
       "  140204,\n",
       "  139430,\n",
       "  139732,\n",
       "  139180,\n",
       "  139405,\n",
       "  138920,\n",
       "  139229,\n",
       "  139164,\n",
       "  139395,\n",
       "  139686,\n",
       "  139864,\n",
       "  139957,\n",
       "  139931,\n",
       "  140457,\n",
       "  139538,\n",
       "  140459,\n",
       "  139185,\n",
       "  139691,\n",
       "  139831,\n",
       "  139005,\n",
       "  139681,\n",
       "  140458,\n",
       "  140053,\n",
       "  138867,\n",
       "  139084,\n",
       "  139433,\n",
       "  140254,\n",
       "  140510,\n",
       "  139412,\n",
       "  140801,\n",
       "  139361,\n",
       "  140309,\n",
       "  139203,\n",
       "  139054,\n",
       "  139161,\n",
       "  139126,\n",
       "  139904,\n",
       "  140956,\n",
       "  138919,\n",
       "  139311,\n",
       "  139799,\n",
       "  139574,\n",
       "  139255,\n",
       "  139514,\n",
       "  140608,\n",
       "  139786,\n",
       "  139505,\n",
       "  139581,\n",
       "  140201,\n",
       "  139174,\n",
       "  139298,\n",
       "  139684,\n",
       "  141154,\n",
       "  139202,\n",
       "  139508,\n",
       "  139327,\n",
       "  139241,\n",
       "  139132,\n",
       "  139908,\n",
       "  140152,\n",
       "  138970,\n",
       "  139466,\n",
       "  139537,\n",
       "  140002,\n",
       "  139239,\n",
       "  139571,\n",
       "  140556,\n",
       "  139425,\n",
       "  138860,\n",
       "  138913,\n",
       "  139862,\n",
       "  139682,\n",
       "  139061,\n",
       "  139191,\n",
       "  139332,\n",
       "  139329,\n",
       "  139579,\n",
       "  139302,\n",
       "  139712,\n",
       "  139651,\n",
       "  138963,\n",
       "  140310,\n",
       "  139233,\n",
       "  139275,\n",
       "  139769,\n",
       "  140306,\n",
       "  139873,\n",
       "  139428,\n",
       "  140008,\n",
       "  139281,\n",
       "  139830,\n",
       "  139228,\n",
       "  139089,\n",
       "  139268,\n",
       "  140304,\n",
       "  139146,\n",
       "  139159,\n",
       "  139676,\n",
       "  138922,\n",
       "  139569,\n",
       "  139851,\n",
       "  139967,\n",
       "  140358,\n",
       "  140262,\n",
       "  140807,\n",
       "  139781,\n",
       "  139160,\n",
       "  139821,\n",
       "  139422,\n",
       "  139193,\n",
       "  139860,\n",
       "  140609,\n",
       "  139706,\n",
       "  139709,\n",
       "  140354,\n",
       "  139337,\n",
       "  139097,\n",
       "  138859,\n",
       "  139453,\n",
       "  139536,\n",
       "  139222,\n",
       "  139766,\n",
       "  139835,\n",
       "  139027,\n",
       "  139700,\n",
       "  139919,\n",
       "  139840,\n",
       "  139890,\n",
       "  139331,\n",
       "  139230,\n",
       "  139775,\n",
       "  139038,\n",
       "  139773,\n",
       "  139674,\n",
       "  140414,\n",
       "  139577,\n",
       "  140658,\n",
       "  139616,\n",
       "  139760,\n",
       "  139053,\n",
       "  139401,\n",
       "  139917,\n",
       "  139418,\n",
       "  139784,\n",
       "  140504,\n",
       "  139139,\n",
       "  139511,\n",
       "  140462,\n",
       "  139227,\n",
       "  139259,\n",
       "  139837,\n",
       "  139780,\n",
       "  141003,\n",
       "  139668,\n",
       "  139075,\n",
       "  139039,\n",
       "  139654,\n",
       "  139220,\n",
       "  139251,\n",
       "  141001,\n",
       "  139678,\n",
       "  139375,\n",
       "  139763,\n",
       "  139761,\n",
       "  139336,\n",
       "  139977,\n",
       "  139807,\n",
       "  139611,\n",
       "  141101,\n",
       "  139011,\n",
       "  139293,\n",
       "  140255,\n",
       "  140460,\n",
       "  139456,\n",
       "  139137,\n",
       "  140452,\n",
       "  139451,\n",
       "  138870,\n",
       "  139095,\n",
       "  139072,\n",
       "  139294,\n",
       "  140806,\n",
       "  139812,\n",
       "  139355,\n",
       "  139031,\n",
       "  139119,\n",
       "  139143,\n",
       "  139317,\n",
       "  139060,\n",
       "  139081,\n",
       "  139326,\n",
       "  139825,\n",
       "  139041,\n",
       "  139657,\n",
       "  139608,\n",
       "  139172,\n",
       "  139105,\n",
       "  139256,\n",
       "  140404,\n",
       "  140103,\n",
       "  139389,\n",
       "  139235,\n",
       "  139402,\n",
       "  139253,\n",
       "  139242,\n",
       "  139051,\n",
       "  141401,\n",
       "  139954,\n",
       "  139544,\n",
       "  139315,\n",
       "  139593,\n",
       "  139273,\n",
       "  140151,\n",
       "  139874,\n",
       "  139891,\n",
       "  139565,\n",
       "  139186,\n",
       "  139270,\n",
       "  139777,\n",
       "  141301,\n",
       "  139808,\n",
       "  139034,\n",
       "  138918,\n",
       "  139659,\n",
       "  139154,\n",
       "  139200,\n",
       "  139189,\n",
       "  139527,\n",
       "  139339,\n",
       "  139198,\n",
       "  139102,\n",
       "  140705,\n",
       "  139145,\n",
       "  139049,\n",
       "  139820,\n",
       "  139045,\n",
       "  139354,\n",
       "  140051,\n",
       "  138912,\n",
       "  139685,\n",
       "  140205,\n",
       "  138858,\n",
       "  141251,\n",
       "  139587,\n",
       "  138925,\n",
       "  139269,\n",
       "  139455,\n",
       "  139464,\n",
       "  139130,\n",
       "  139730,\n",
       "  139088,\n",
       "  139841,\n",
       "  139324,\n",
       "  139687,\n",
       "  139796,\n",
       "  139765,\n",
       "  139357,\n",
       "  139440,\n",
       "  138862,\n",
       "  139091,\n",
       "  139420,\n",
       "  139382,\n",
       "  140755,\n",
       "  139702,\n",
       "  139871,\n",
       "  140353,\n",
       "  139564,\n",
       "  139363,\n",
       "  140461,\n",
       "  140563,\n",
       "  139704,\n",
       "  140305,\n",
       "  139774,\n",
       "  139507,\n",
       "  139204,\n",
       "  139866,\n",
       "  139734,\n",
       "  139163,\n",
       "  139535,\n",
       "  140957,\n",
       "  139855,\n",
       "  139961,\n",
       "  139265,\n",
       "  139811,\n",
       "  139809,\n",
       "  139147,\n",
       "  140359,\n",
       "  140502,\n",
       "  139715,\n",
       "  139439,\n",
       "  138972,\n",
       "  139893,\n",
       "  140453,\n",
       "  139184,\n",
       "  139868,\n",
       "  139426,\n",
       "  139117,\n",
       "  139925,\n",
       "  139803,\n",
       "  139365,\n",
       "  139869,\n",
       "  141351,\n",
       "  139928,\n",
       "  139824,\n",
       "  139509,\n",
       "  139404,\n",
       "  139285,\n",
       "  140408,\n",
       "  139568,\n",
       "  140701,\n",
       "  139510,\n",
       "  139206,\n",
       "  139733,\n",
       "  141201,\n",
       "  139590,\n",
       "  139526,\n",
       "  139523,\n",
       "  139381,\n",
       "  139002,\n",
       "  140551,\n",
       "  139530,\n",
       "  139216,\n",
       "  139348,\n",
       "  139223,\n",
       "  140707,\n",
       "  139040,\n",
       "  139046,\n",
       "  139279,\n",
       "  140855,\n",
       "  139513,\n",
       "  139120,\n",
       "  139254,\n",
       "  140560,\n",
       "  139872,\n",
       "  139092,\n",
       "  138868,\n",
       "  139867,\n",
       "  139110,\n",
       "  139814,\n",
       "  139347,\n",
       "  139346,\n",
       "  139663,\n",
       "  139377,\n",
       "  140413,\n",
       "  138921,\n",
       "  139063,\n",
       "  139125,\n",
       "  139373,\n",
       "  139152,\n",
       "  140006,\n",
       "  139662,\n",
       "  139586,\n",
       "  139158,\n",
       "  139408,\n",
       "  139591,\n",
       "  139771,\n",
       "  139029,\n",
       "  139218,\n",
       "  139865,\n",
       "  139552,\n",
       "  139562,\n",
       "  139098,\n",
       "  141002,\n",
       "  139909,\n",
       "  139140,\n",
       "  141352,\n",
       "  139454,\n",
       "  139689,\n",
       "  139344,\n",
       "  138961,\n",
       "  141057,\n",
       "  140557,\n",
       "  139359,\n",
       "  140558,\n",
       "  140604,\n",
       "  139548,\n",
       "  139219,\n",
       "  140260,\n",
       "  139726,\n",
       "  139043,\n",
       "  139022,\n",
       "  140554,\n",
       "  139653,\n",
       "  141053,\n",
       "  139563,\n",
       "  139109,\n",
       "  140007,\n",
       "  138910,\n",
       "  139135,\n",
       "  139330,\n",
       "  139836,\n",
       "  139042,\n",
       "  139101,\n",
       "  139693,\n",
       "  140507,\n",
       "  138855,\n",
       "  139716,\n",
       "  139247,\n",
       "  139071,\n",
       "  139561,\n",
       "  139853,\n",
       "  139177,\n",
       "  140001,\n",
       "  140553,\n",
       "  139044,\n",
       "  139234,\n",
       "  139901,\n",
       "  139099,\n",
       "  139349,\n",
       "  139725,\n",
       "  139303,\n",
       "  139436,\n",
       "  139261,\n",
       "  139199,\n",
       "  141253,\n",
       "  139902,\n",
       "  139148,\n",
       "  139751,\n",
       "  140561,\n",
       "  139162,\n",
       "  139407,\n",
       "  139721,\n",
       "  139612,\n",
       "  140605,\n",
       "  139306,\n",
       "  139665,\n",
       "  139209,\n",
       "  139797,\n",
       "  139580,\n",
       "  139695,\n",
       "  140311,\n",
       "  139001,\n",
       "  140751,\n",
       "  139144,\n",
       "  139352,\n",
       "  139833,\n",
       "  139345,\n",
       "  139605,\n",
       "  139515,\n",
       "  140857,\n",
       "  139035,\n",
       "  139441,\n",
       "  139340,\n",
       "  140752,\n",
       "  139756,\n",
       "  139823,\n",
       "  139271,\n",
       "  139030,\n",
       "  139094,\n",
       "  140454,\n",
       "  139876,\n",
       "  139090,\n",
       "  139023,\n",
       "  140009,\n",
       "  139817,\n",
       "  139322,\n",
       "  141051,\n",
       "  139153,\n",
       "  139409,\n",
       "  139103,\n",
       "  139802,\n",
       "  139165,\n",
       "  139325,\n",
       "  139592,\n",
       "  139607,\n",
       "  139772,\n",
       "  139403,\n",
       "  138959,\n",
       "  139787,\n",
       "  139301,\n",
       "  139457,\n",
       "  139176,\n",
       "  139524,\n",
       "  139424,\n",
       "  139009,\n",
       "  139972,\n",
       "  141052,\n",
       "  138966,\n",
       "  140753,\n",
       "  139679,\n",
       "  139822,\n",
       "  139299,\n",
       "  139419,\n",
       "  139669,\n",
       "  139131,\n",
       "  140805,\n",
       "  139028,\n",
       "  139257,\n",
       "  139364,\n",
       "  138916,\n",
       "  139015,\n",
       "  139416,\n",
       "  139192,\n",
       "  139976,\n",
       "  139728,\n",
       "  139421,\n",
       "  140505,\n",
       "  141056,\n",
       "  139310,\n",
       "  139522,\n",
       "  140362,\n",
       "  139762,\n",
       "  139334,\n",
       "  141054,\n",
       "  140562,\n",
       "  139778,\n",
       "  139566,\n",
       "  139842,\n",
       "  139754,\n",
       "  138857,\n",
       "  139168,\n",
       "  140854,\n",
       "  139671,\n",
       "  140456,\n",
       "  139870,\n",
       "  139173,\n",
       "  139113,\n",
       "  139036,\n",
       "  139506,\n",
       "  141252,\n",
       "  139104,\n",
       "  139582,\n",
       "  139082,\n",
       "  140552,\n",
       "  139613,\n",
       "  139609,\n",
       "  140503,\n",
       "  140601,\n",
       "  139969,\n",
       "  140011,\n",
       "  139710,\n",
       "  139434,\n",
       "  139318,\n",
       "  139578,\n",
       "  139504,\n",
       "  139655,\n",
       "  139827,\n",
       "  138971,\n",
       "  140652,\n",
       "  139059,\n",
       "  139694,\n",
       "  139047,\n",
       "  140610,\n",
       "  139813,\n",
       "  139309,\n",
       "  139237,\n",
       "  139366,\n",
       "  138973,\n",
       "  139975,\n",
       "  140308,\n",
       "  139266,\n",
       "  139037,\n",
       "  139858,\n",
       "  140402,\n",
       "  140657,\n",
       "  139296,\n",
       "  139501,\n",
       "  139093,\n",
       "  139262,\n",
       "  139007,\n",
       "  139782,\n",
       "  141202,\n",
       "  139818,\n",
       "  139304,\n",
       "  139576,\n",
       "  139351,\n",
       "  140010,\n",
       "  139151,\n",
       "  139342,\n",
       "  141402,\n",
       "  139308,\n",
       "  139190,\n",
       "  140403,\n",
       "  139701,\n",
       "  139516,\n",
       "  139570,\n",
       "  139264,\n",
       "  139968,\n",
       "  140409,\n",
       "  138926,\n",
       "  139528,\n",
       "  140606,\n",
       "  140754,\n",
       "  139437,\n",
       "  139656,\n",
       "  139584,\n",
       "  139711,\n",
       "  139905,\n",
       "  140555,\n",
       "  139467,\n",
       "  139394,\n",
       "  139350,\n",
       "  139033,\n",
       "  139333,\n",
       "  139834,\n",
       "  138866,\n",
       "  139128,\n",
       "  139258,\n",
       "  139930,\n",
       "  139875,\n",
       "  139267,\n",
       "  139295,\n",
       "  138969,\n",
       "  139970,\n",
       "  139973,\n",
       "  139886,\n",
       "  139245,\n",
       "  140702,\n",
       "  139888,\n",
       "  139573,\n",
       "  139108,\n",
       "  139531,\n",
       "  140602,\n",
       "  139567,\n",
       "  139217,\n",
       "  139703,\n",
       "  139800,\n",
       "  139854,\n",
       "  140411,\n",
       "  139376,\n",
       "  140263,\n",
       "  139077,\n",
       "  139221,\n",
       "  139606,\n",
       "  139134,\n",
       "  140208,\n",
       "  139396,\n",
       "  139727,\n",
       "  139583,\n",
       "  139167,\n",
       "  139362,\n",
       "  139057,\n",
       "  139224,\n",
       "  139021,\n",
       "  139070,\n",
       "  139758,\n",
       "  139529,\n",
       "  138861,\n",
       "  139550,\n",
       "  139543,\n",
       "  139729,\n",
       "  139004,\n",
       "  139353,\n",
       "  140451,\n",
       "  140259,\n",
       "  139338,\n",
       "  139019,\n",
       "  140856,\n",
       "  139414,\n",
       "  139305,\n",
       "  139783,\n",
       "  139087,\n",
       "  140412,\n",
       "  139138,\n",
       "  139776,\n",
       "  140952,\n",
       "  139008,\n",
       "  139136,\n",
       "  139215,\n",
       "  140756,\n",
       "  140012,\n",
       "  139764,\n",
       "  139210,\n",
       "  140258,\n",
       "  139282,\n",
       "  139907,\n",
       "  139368,\n",
       "  139307,\n",
       "  139850,\n",
       "  139696,\n",
       "  141152,\n",
       "  139211,\n",
       "  140564,\n",
       "  139240,\n",
       "  139826,\n",
       "  139074,\n",
       "  139149,\n",
       "  139372,\n",
       "  140463,\n",
       "  139085,\n",
       "  140955,\n",
       "  138924,\n",
       "  139423,\n",
       "  141151,\n",
       "  139263,\n",
       "  139547,\n",
       "  139718,\n",
       "  139274,\n",
       "  139064,\n",
       "  139731,\n",
       "  140361,\n",
       "  139194,\n",
       "  139770,\n",
       "  139181,\n",
       "  139073,\n",
       "  139956,\n",
       "  139452,\n",
       "  139720,\n",
       "  139360,\n",
       "  139683,\n",
       "  138869,\n",
       "  138923,\n",
       "  139187,\n",
       "  138965,\n",
       "  139887,\n",
       "  139232,\n",
       "  139546,\n",
       "  139852,\n",
       "  139328,\n",
       "  139413,\n",
       "  140559,\n",
       "  139906,\n",
       "  139723,\n",
       "  140203,\n",
       "  139670,\n",
       "  139188,\n",
       "  139175,\n",
       "  138865,\n",
       "  139856,\n",
       "  139666,\n",
       "  140653,\n",
       "  139415,\n",
       "  139673,\n",
       "  141055,\n",
       "  139892,\n",
       "  139141,\n",
       "  140651,\n",
       "  139878,\n",
       "  139675,\n",
       "  139810,\n",
       "  139197,\n",
       "  139055,\n",
       "  139052,\n",
       "  139129,\n",
       "  140004,\n",
       "  139026,\n",
       "  139819,\n",
       "  139171,\n",
       "  139246,\n",
       "  139697,\n",
       "  139236,\n",
       "  140102,\n",
       "  139335,\n",
       "  140508,\n",
       "  139112,\n",
       "  139118,\n",
       "  139369,\n",
       "  138911,\n",
       "  139213,\n",
       "  139079,\n",
       "  139166,\n",
       "  138967,\n",
       "  139719,\n",
       "  139442,\n",
       "  139371,\n",
       "  139272,\n",
       "  141353,\n",
       "  139755,\n",
       "  139717,\n",
       "  140509,\n",
       "  139290,\n",
       "  139277,\n",
       "  139652,\n",
       "  139127,\n",
       "  139804,\n",
       "  140261,\n",
       "  139964,\n",
       "  139065,\n",
       "  140410,\n",
       "  139323,\n",
       "  139205,\n",
       "  138864,\n",
       "  140005,\n",
       "  139260,\n",
       "  139600,\n",
       "  139283,\n",
       "  139672,\n",
       "  139431,\n",
       "  139705,\n",
       "  140603,\n",
       "  139828,\n",
       "  139410,\n",
       "  139201,\n",
       "  139614,\n",
       "  139551,\n",
       "  139861,\n",
       "  139974,\n",
       "  140052,\n",
       "  139427,\n",
       "  139383,\n",
       "  139122,\n",
       "  140363,\n",
       "  139572,\n",
       "  139560,\n",
       "  140703,\n",
       "  140357,\n",
       "  138863,\n",
       "  139465,\n",
       "  139601,\n",
       "  139244,\n",
       "  139392,\n",
       "  139142,\n",
       "  139903,\n",
       "  139358,\n",
       "  139965,\n",
       "  139816,\n",
       "  139058,\n",
       "  139380,\n",
       "  139248,\n",
       "  139316,\n",
       "  140903,\n",
       "  139839,\n",
       "  139179,\n",
       "  140611,\n",
       "  139284,\n",
       "  138964,\n",
       "  139468,\n",
       "  139207,\n",
       "  139910,\n",
       "  139832,\n",
       "  139768,\n",
       "  139877,\n",
       "  139610,\n",
       "  140256,\n",
       "  139226,\n",
       "  139815,\n",
       "  139280,\n",
       "  138915,\n",
       "  139276,\n",
       "  139838,\n",
       "  139300,\n",
       "  139533,\n",
       "  139107,\n",
       "  139435,\n",
       "  139321,\n",
       "  140654,\n",
       "  139857,\n",
       "  141153,\n",
       "  139753,\n",
       "  139963,\n",
       "  139688,\n",
       "  139157,\n",
       "  139111,\n",
       "  139288,\n",
       "  140708,\n",
       "  139312,\n",
       "  139658,\n",
       "  139615,\n",
       "  139517,\n",
       "  139150,\n",
       "  139083,\n",
       "  139289,\n",
       "  139250,\n",
       "  140405,\n",
       "  139320,\n",
       "  139249,\n",
       "  140003,\n",
       "  139013,\n",
       "  139106,\n",
       "  138962,\n",
       "  140953,\n",
       "  139692,\n",
       "  139006,\n",
       "  139208,\n",
       "  141102,\n",
       "  139680,\n",
       "  139170,\n",
       "  140706,\n",
       "  139859,\n",
       "  139920],\n",
       " 'msg': 'Evtdata json file successfully read'}"
      ]
     },
     "execution_count": 16,
     "metadata": {},
     "output_type": "execute_result"
    }
   ],
   "source": [
    "import json, requests\n",
    "\n",
    "# Convert the array to a serializable list in a JSON document\n",
    "data = {\"itemId\": \"139065\", \"userId\":\"045170d-2d83-ec11-8d21-000d3a64ffaa\", \"performedAction\": \"ENTER_ARTWORK\"}\n",
    "\n",
    "json_data = json.dumps(data)\n",
    "\n",
    "# primary_key, secondary_key = aks_service.get_keys()\n",
    "headers = {'Content-Type':'application/json', 'Authorization':('Bearer '+ primary_key)}\n",
    "\n",
    "\n",
    "endpoint = aks_service.scoring_uri\n",
    "\n",
    "# Call the service\n",
    "response = requests.post(url = endpoint,\n",
    "                         data = json_data,\n",
    "                         headers = headers)\n",
    "\n",
    "# Get the predictions\n",
    "predictions = response.json()\n",
    "predictions"
   ]
  },
  {
   "cell_type": "code",
   "execution_count": 17,
   "metadata": {
    "gather": {
     "logged": 1645181521602
    },
    "jupyter": {
     "outputs_hidden": false,
     "source_hidden": false
    },
    "nteract": {
     "transient": {
      "deleting": false
     }
    }
   },
   "outputs": [
    {
     "data": {
      "text/plain": [
       "876"
      ]
     },
     "execution_count": 17,
     "metadata": {},
     "output_type": "execute_result"
    }
   ],
   "source": [
    "len(predictions['result']) # ARTWORKS - 877, ROOMS - 75"
   ]
  }
 ],
 "metadata": {
  "interpreter": {
   "hash": "2d70de2650911a3f1f1461ebb46d06a0cab8990c9fd67b12a9a6fd5f0dd4ec42"
  },
  "kernel_info": {
   "name": "python3"
  },
  "kernelspec": {
   "display_name": "Python 3",
   "language": "python",
   "name": "python3"
  },
  "language_info": {
   "codemirror_mode": {
    "name": "ipython",
    "version": 3
   },
   "file_extension": ".py",
   "mimetype": "text/x-python",
   "name": "python",
   "nbconvert_exporter": "python",
   "pygments_lexer": "ipython3",
   "version": "3.6.9"
  },
  "microsoft": {
   "host": {
    "AzureML": {
     "notebookHasBeenCompleted": true
    }
   }
  },
  "nteract": {
   "version": "nteract-front-end@1.0.0"
  }
 },
 "nbformat": 4,
 "nbformat_minor": 2
}
